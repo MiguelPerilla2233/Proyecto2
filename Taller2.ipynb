{
 "cells": [
  {
   "cell_type": "code",
   "execution_count": 21,
   "id": "9f881741",
   "metadata": {},
   "outputs": [],
   "source": [
    "import numpy as np\n",
    "import matplotlib.pyplot as plt\n",
    "import pandas as pd\n",
    "from sklearn.linear_model import LogisticRegression"
   ]
  },
  {
   "cell_type": "code",
   "execution_count": 23,
   "id": "5f24d16c",
   "metadata": {},
   "outputs": [],
   "source": [
    "data_2014 = pd.read_csv('data/data_2014.csv', encoding='unicode_escape')\n",
    "data_2018 = pd.read_csv('data/data_2018.csv', encoding='unicode_escape')\n",
    "data_2022 = pd.read_csv('data/data_2022.csv', encoding='unicode_escape')"
   ]
  },
  {
   "cell_type": "code",
   "execution_count": 24,
   "id": "ab0313b2",
   "metadata": {},
   "outputs": [],
   "source": [
    "deps = np.array(data_2014['Dpto'])\n",
    "#data_2022['Partido']"
   ]
  },
  {
   "cell_type": "code",
   "execution_count": 25,
   "id": "6c8aa756",
   "metadata": {},
   "outputs": [
    {
     "data": {
      "text/plain": [
       "(33,)"
      ]
     },
     "execution_count": 25,
     "metadata": {},
     "output_type": "execute_result"
    }
   ],
   "source": [
    "y = np.ones(33)\n",
    "for i in range(33):\n",
    "    if data_2018['Partido'][i] == data_2014['Partido'][i]:\n",
    "        y[i] = 1\n",
    "    else:\n",
    "        y[i] = 0\n",
    "y.shape"
   ]
  },
  {
   "cell_type": "code",
   "execution_count": 26,
   "id": "47b4adfd",
   "metadata": {},
   "outputs": [],
   "source": [
    "X = np.array([data_2018['Porcentaje']-data_2014['Porcentaje']]).T"
   ]
  },
  {
   "cell_type": "code",
   "execution_count": 27,
   "id": "78f8801c",
   "metadata": {},
   "outputs": [],
   "source": [
    "classifier = LogisticRegression().fit(X, y)"
   ]
  },
  {
   "cell_type": "code",
   "execution_count": 28,
   "id": "33c081da",
   "metadata": {},
   "outputs": [
    {
     "data": {
      "text/plain": [
       "array([0., 1.])"
      ]
     },
     "execution_count": 28,
     "metadata": {},
     "output_type": "execute_result"
    }
   ],
   "source": [
    "classifier.classes_"
   ]
  },
  {
   "cell_type": "code",
   "execution_count": 29,
   "id": "71e327cd",
   "metadata": {},
   "outputs": [
    {
     "data": {
      "text/plain": [
       "(array([[0.02971916]]), array([-0.03742596]))"
      ]
     },
     "execution_count": 29,
     "metadata": {},
     "output_type": "execute_result"
    }
   ],
   "source": [
    "classifier.coef_,classifier.intercept_"
   ]
  },
  {
   "cell_type": "code",
   "execution_count": 30,
   "id": "f5c815f1",
   "metadata": {},
   "outputs": [
    {
     "data": {
      "text/plain": [
       "array([1., 1., 1., 1., 1., 0., 1., 0., 0., 1., 1., 0., 1., 0., 0., 1., 1.,\n",
       "       0., 0., 1., 0., 0., 0., 0., 1., 1., 1., 1., 1., 1., 1., 1., 1.])"
      ]
     },
     "execution_count": 30,
     "metadata": {},
     "output_type": "execute_result"
    }
   ],
   "source": [
    "Y_predict = classifier.predict(X)\n",
    "Y_predict"
   ]
  },
  {
   "cell_type": "code",
   "execution_count": 31,
   "id": "6b258ffb",
   "metadata": {},
   "outputs": [
    {
     "data": {
      "text/plain": [
       "[<matplotlib.lines.Line2D at 0x28053906b50>]"
      ]
     },
     "execution_count": 31,
     "metadata": {},
     "output_type": "execute_result"
    },
    {
     "data": {
      "image/png": "[encoded data removed]",
      "text/plain": [
       "<Figure size 432x288 with 1 Axes>"
      ]
     },
     "metadata": {
      "needs_background": "light"
     },
     "output_type": "display_data"
    }
   ],
   "source": [
    "t = np.linspace(-20,20,1000)\n",
    "p = 1/(1+np.exp(-classifier.coef_*t-classifier.intercept_))\n",
    "\n",
    "plt.scatter(X,Y_predict,alpha=0.5)\n",
    "plt.plot(t,p.T,'r')"
   ]
  },
  {
   "cell_type": "code",
   "execution_count": 32,
   "id": "2de68ed1",
   "metadata": {},
   "outputs": [
    {
     "data": {
      "text/plain": [
       "array([0., 1., 1., 1., 1., 0., 0., 0., 0., 1., 0., 1., 0., 0., 0., 0., 0.,\n",
       "       0., 0., 1., 0., 1., 0., 0., 1., 0., 1., 0., 0., 1., 0., 1., 1.])"
      ]
     },
     "execution_count": 32,
     "metadata": {},
     "output_type": "execute_result"
    }
   ],
   "source": [
    "test = np.ones(33)\n",
    "val = data_2022['Partido'] == data_2018['Partido']\n",
    "for i in range(33):\n",
    "    if val[i]:\n",
    "        test[i] = 1\n",
    "    else:\n",
    "        test[i] = 0\n",
    "test"
   ]
  },
  {
   "cell_type": "code",
   "execution_count": 33,
   "id": "e48e3484",
   "metadata": {},
   "outputs": [
    {
     "data": {
      "text/plain": [
       "array([[10, 10],\n",
       "       [ 2, 11]], dtype=int64)"
      ]
     },
     "execution_count": 33,
     "metadata": {},
     "output_type": "execute_result"
    }
   ],
   "source": [
    "import sklearn.metrics\n",
    "sklearn.metrics.confusion_matrix(test,Y_predict)"
   ]
  },
  {
   "cell_type": "code",
   "execution_count": 34,
   "id": "276c20f3",
   "metadata": {},
   "outputs": [
    {
     "data": {
      "text/plain": [
       "(0.625, 0.6470588235294118)"
      ]
     },
     "execution_count": 34,
     "metadata": {},
     "output_type": "execute_result"
    }
   ],
   "source": [
    "sklearn.metrics.f1_score(test, Y_predict, pos_label=0),sklearn.metrics.f1_score(test, Y_predict, pos_label=1)"
   ]
  },
  {
   "cell_type": "code",
   "execution_count": 35,
   "id": "3d097351",
   "metadata": {},
   "outputs": [],
   "source": [
    "proba = classifier.predict_proba(X)\n",
    "n_probas = 100\n",
    "probas_cut_alto = np.linspace(0.0,1.0,n_probas)\n",
    "precision_probas = np.ones(n_probas)\n",
    "recall_probas = np.ones(n_probas)\n",
    "f1_probas = np.ones(n_probas)\n",
    "\n",
    "for i in range(n_probas):\n",
    "    ii = proba[:,1] > probas_cut_alto[i]\n",
    "    Y_predict[ii] = 1\n",
    "    Y_predict[~ii] = 0\n",
    "    precision_probas[i] = sklearn.metrics.precision_score(test, Y_predict, pos_label=1,zero_division = 0)\n",
    "    recall_probas[i] = sklearn.metrics.recall_score(test, Y_predict, pos_label=1,zero_division = 0)\n",
    "    f1_probas[i] = sklearn.metrics.f1_score(test, Y_predict, pos_label=1,zero_division = 0)"
   ]
  },
  {
   "cell_type": "code",
   "execution_count": 36,
   "id": "b1a05619",
   "metadata": {},
   "outputs": [
    {
     "data": {
      "text/plain": [
       "[<matplotlib.lines.Line2D at 0x28053973910>]"
      ]
     },
     "execution_count": 36,
     "metadata": {},
     "output_type": "execute_result"
    },
    {
     "data": {
      "image/png": "[encoded data removed]",
      "text/plain": [
       "<Figure size 432x288 with 1 Axes>"
      ]
     },
     "metadata": {
      "needs_background": "light"
     },
     "output_type": "display_data"
    }
   ],
   "source": [
    "plt.plot(recall_probas, precision_probas)"
   ]
  },
  {
   "cell_type": "code",
   "execution_count": 37,
   "id": "6e183664",
   "metadata": {},
   "outputs": [
    {
     "data": {
      "text/plain": [
       "[<matplotlib.lines.Line2D at 0x280539e9070>]"
      ]
     },
     "execution_count": 37,
     "metadata": {},
     "output_type": "execute_result"
    },
    {
     "data": {
      "image/png": "[encoded data removed]",
      "text/plain": [
       "<Figure size 432x288 with 1 Axes>"
      ]
     },
     "metadata": {
      "needs_background": "light"
     },
     "output_type": "display_data"
    }
   ],
   "source": [
    "plt.plot(probas_cut_alto, f1_probas)"
   ]
  },
  {
   "cell_type": "code",
   "execution_count": null,
   "id": "637532f7",
   "metadata": {},
   "outputs": [],
   "source": []
  }
 ],
 "metadata": {
  "kernelspec": {
   "display_name": "Python 3 (ipykernel)",
   "language": "python",
   "name": "python3"
  },
  "language_info": {
   "codemirror_mode": {
    "name": "ipython",
    "version": 3
   },
   "file_extension": ".py",
   "mimetype": "text/x-python",
   "name": "python",
   "nbconvert_exporter": "python",
   "pygments_lexer": "ipython3",
   "version": "3.9.7"
  }
 },
 "nbformat": 4,
 "nbformat_minor": 5
}
