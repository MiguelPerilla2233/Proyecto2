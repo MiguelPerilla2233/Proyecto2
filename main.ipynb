{
 "cells": [
  {
   "cell_type": "code",
   "execution_count": 38,
   "metadata": {},
   "outputs": [],
   "source": [
    "import numpy as np\n",
    "import matplotlib.pyplot as plt\n",
    "import pandas as pd"
   ]
  },
  {
   "cell_type": "code",
   "execution_count": 39,
   "metadata": {},
   "outputs": [],
   "source": [
    "data_2018 = pd.read_csv('data_2018.csv', delimiter=\";\", encoding='latin1')"
   ]
  },
  {
   "cell_type": "code",
   "execution_count": 42,
   "metadata": {},
   "outputs": [],
   "source": [
    "departamentos = np.array(list(dict.fromkeys(data_2018['Depto'])))\n",
    "partidos = np.array(data_2018.keys()[8:25])"
   ]
  },
  {
   "cell_type": "code",
   "execution_count": 43,
   "metadata": {},
   "outputs": [],
   "source": [
    "votos_2018 = {}\n",
    "for i in departamentos:\n",
    "    votos_2018[i] = {}\n",
    "    for j in partidos:\n",
    "        votos_2018[i][j] = np.sum(data_2018[data_2018['Depto'] == i][j])"
   ]
  },
  {
   "cell_type": "code",
   "execution_count": 34,
   "metadata": {},
   "outputs": [],
   "source": [
    "data_2022 = pd.read_csv('data_2022.csv', encoding='UTF-8')"
   ]
  },
  {
   "cell_type": "code",
   "execution_count": 46,
   "metadata": {},
   "outputs": [
    {
     "data": {
      "text/plain": [
       "array(['Alianza Verde', 'Cambio Radical', 'Centro Democrático',\n",
       "       'Partido Conservador', 'FARC', 'Partido Liberal',\n",
       "       'Opción Ciudadana', 'MIRA', 'Polo Democrático Alternativo',\n",
       "       'Partido de la U', 'Somos', 'Todos Somos Colombia',\n",
       "       'Coalición Lista de la Decencia (ASI-UP-MAIS)',\n",
       "       'GSC Colombia Justa Libres', 'GSC Si se puede',\n",
       "       'GSC Unión con Fortaleza', 'Voto en Blanco (Nacional)'],\n",
       "      dtype=object)"
      ]
     },
     "execution_count": 46,
     "metadata": {},
     "output_type": "execute_result"
    }
   ],
   "source": [
    "partidos"
   ]
  },
  {
   "cell_type": "code",
   "execution_count": null,
   "metadata": {},
   "outputs": [],
   "source": []
  }
 ],
 "metadata": {
  "interpreter": {
   "hash": "fb698bdeab99cfbf9e31cab566d99a06e057f2dec3dcc8097ebabb329e860e16"
  },
  "kernelspec": {
   "display_name": "Python 3.8.11 ('base')",
   "language": "python",
   "name": "python3"
  },
  "language_info": {
   "codemirror_mode": {
    "name": "ipython",
    "version": 3
   },
   "file_extension": ".py",
   "mimetype": "text/x-python",
   "name": "python",
   "nbconvert_exporter": "python",
   "pygments_lexer": "ipython3",
   "version": "3.8.11"
  },
  "orig_nbformat": 4
 },
 "nbformat": 4,
 "nbformat_minor": 2
}
