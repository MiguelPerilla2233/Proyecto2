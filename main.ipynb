{
 "cells": [
  {
   "cell_type": "code",
   "execution_count": 1,
   "id": "9f881741",
   "metadata": {},
   "outputs": [],
   "source": [
    "import numpy as np\n",
    "import matplotlib.pyplot as plt\n",
    "import seaborn as sns\n",
    "import pandas as pd\n",
    "from sklearn.linear_model import LogisticRegression\n",
    "import sklearn.metrics"
   ]
  },
  {
   "cell_type": "code",
   "execution_count": 2,
   "id": "5f24d16c",
   "metadata": {},
   "outputs": [],
   "source": [
    "data_2014 = pd.read_csv('data/data_2014.csv', encoding='unicode_escape')\n",
    "data_2018 = pd.read_csv('data/data_2018.csv', encoding='unicode_escape')\n",
    "data_2022 = pd.read_csv('data/data_2022.csv', encoding='unicode_escape')"
   ]
  },
  {
   "cell_type": "code",
   "execution_count": 3,
   "id": "ab0313b2",
   "metadata": {},
   "outputs": [],
   "source": [
    "deps = np.array(data_2014['Dpto'])"
   ]
  },
  {
   "cell_type": "code",
   "execution_count": 4,
   "id": "6c8aa756",
   "metadata": {},
   "outputs": [],
   "source": [
    "y = np.ones(33)\n",
    "for i in range(33):\n",
    "    if data_2018['Partido'][i] == data_2014['Partido'][i]:\n",
    "        y[i] = 1\n",
    "    else:\n",
    "        y[i] = 0"
   ]
  },
  {
   "cell_type": "code",
   "execution_count": 5,
   "id": "47b4adfd",
   "metadata": {},
   "outputs": [],
   "source": [
    "X = np.array([data_2018['Porcentaje']-data_2014['Porcentaje']]).T"
   ]
  },
  {
   "cell_type": "code",
   "execution_count": 6,
   "id": "78f8801c",
   "metadata": {},
   "outputs": [],
   "source": [
    "classifier = LogisticRegression().fit(X, y)"
   ]
  },
  {
   "cell_type": "code",
   "execution_count": 7,
   "id": "33c081da",
   "metadata": {},
   "outputs": [
    {
     "data": {
      "text/plain": [
       "array([0., 1.])"
      ]
     },
     "execution_count": 7,
     "metadata": {},
     "output_type": "execute_result"
    }
   ],
   "source": [
    "classifier.classes_"
   ]
  },
  {
   "cell_type": "code",
   "execution_count": 8,
   "id": "71e327cd",
   "metadata": {},
   "outputs": [
    {
     "data": {
      "text/plain": [
       "(array([[0.02971916]]), array([-0.03742596]))"
      ]
     },
     "execution_count": 8,
     "metadata": {},
     "output_type": "execute_result"
    }
   ],
   "source": [
    "classifier.coef_,classifier.intercept_"
   ]
  },
  {
   "cell_type": "code",
   "execution_count": 9,
   "id": "f5c815f1",
   "metadata": {},
   "outputs": [
    {
     "data": {
      "text/plain": [
       "array([1., 1., 1., 1., 1., 0., 1., 0., 0., 1., 1., 0., 1., 0., 0., 1., 1.,\n",
       "       0., 0., 1., 0., 0., 0., 0., 1., 1., 1., 1., 1., 1., 1., 1., 1.])"
      ]
     },
     "execution_count": 9,
     "metadata": {},
     "output_type": "execute_result"
    }
   ],
   "source": [
    "Y_predict = classifier.predict(X)\n",
    "Y_predict"
   ]
  },
  {
   "cell_type": "code",
   "execution_count": 10,
   "id": "d3a1f7ce",
   "metadata": {},
   "outputs": [
    {
     "data": {
      "text/plain": [
       "array([-0.03742596])"
      ]
     },
     "execution_count": 10,
     "metadata": {},
     "output_type": "execute_result"
    }
   ],
   "source": [
    "classifier.intercept_"
   ]
  },
  {
   "cell_type": "code",
   "execution_count": 11,
   "id": "6b258ffb",
   "metadata": {},
   "outputs": [
    {
     "data": {
      "image/png": "[encoded data removed]",
      "text/plain": [
       "<Figure size 432x288 with 1 Axes>"
      ]
     },
     "metadata": {
      "needs_background": "light"
     },
     "output_type": "display_data"
    }
   ],
   "source": [
    "def logistic(x, beta, alpha=0):\n",
    "    return 1.0 / (1.0 + np.exp(np.dot(beta, x) + alpha))\n",
    "\n",
    "t = np.linspace(-20,20,1000)\n",
    "p = 1/(1+np.exp(classifier.coef_*t+classifier.intercept_))\n",
    "\n",
    "plt.figure()\n",
    "plt.style.use('seaborn')\n",
    "plt.scatter(X, Y_predict, edgecolor = 'skyblue', s=50, alpha=0.5)\n",
    "# plt.plot(t, p.T, 'g')\n",
    "plt.plot(t, logistic(t, -2, 1), 'g')\n",
    "plt.xlabel('Diferencia en la fracción de votos para el partido mayoritario')\n",
    "plt.ylabel('Probabilidad')\n",
    "plt.tight_layout()\n",
    "plt.savefig('results/model.png')"
   ]
  },
  {
   "cell_type": "code",
   "execution_count": 12,
   "id": "2de68ed1",
   "metadata": {},
   "outputs": [
    {
     "data": {
      "text/plain": [
       "array([0., 1., 1., 1., 1., 0., 1., 0., 0., 1., 0., 1., 0., 0., 0., 0., 0.,\n",
       "       0., 0., 1., 0., 1., 0., 0., 1., 0., 1., 0., 0., 1., 0., 1., 1.])"
      ]
     },
     "execution_count": 12,
     "metadata": {},
     "output_type": "execute_result"
    }
   ],
   "source": [
    "test = np.ones(33)\n",
    "val = data_2022['Partido'] == data_2018['Partido']\n",
    "for i in range(33):\n",
    "    if val[i]:\n",
    "        test[i] = 1\n",
    "    else:\n",
    "        test[i] = 0\n",
    "test"
   ]
  },
  {
   "cell_type": "code",
   "execution_count": 13,
   "id": "e48e3484",
   "metadata": {},
   "outputs": [
    {
     "data": {
      "image/png": "[encoded data removed]",
      "text/plain": [
       "<Figure size 576x396 with 2 Axes>"
      ]
     },
     "metadata": {},
     "output_type": "display_data"
    }
   ],
   "source": [
    "cnf_matrix = sklearn.metrics.confusion_matrix(test, Y_predict)\n",
    "\n",
    "classes=[0, 1]\n",
    "fig, ax = plt.subplots()\n",
    "tick_marks = np.arange(len(classes))\n",
    "plt.xticks(tick_marks, classes)\n",
    "plt.yticks(tick_marks, classes)\n",
    "sns.heatmap(pd.DataFrame(cnf_matrix), annot=True, cmap=\"YlGnBu\" ,fmt='g')\n",
    "ax.xaxis.set_label_position(\"top\")\n",
    "plt.title('Matriz de Confusión', y=1.1)\n",
    "plt.ylabel('Valores Reales')\n",
    "plt.xlabel('Predicciones')\n",
    "plt.tight_layout()\n",
    "plt.savefig('results/confusion_matrix.png')"
   ]
  },
  {
   "cell_type": "code",
   "execution_count": 14,
   "id": "6a327499",
   "metadata": {},
   "outputs": [
    {
     "name": "stdout",
     "output_type": "stream",
     "text": [
      "Exactitud: 0.6666666666666666\n",
      "Precisión: 0.5714285714285714\n",
      "Cobertura (Recall): 0.8571428571428571\n"
     ]
    }
   ],
   "source": [
    "print(\"Exactitud:\", sklearn.metrics.accuracy_score(test, Y_predict))\n",
    "print(\"Precisión:\", sklearn.metrics.precision_score(test, Y_predict))\n",
    "print(\"Cobertura (Recall):\", sklearn.metrics.recall_score(test, Y_predict))"
   ]
  },
  {
   "cell_type": "code",
   "execution_count": 15,
   "id": "276c20f3",
   "metadata": {},
   "outputs": [
    {
     "name": "stdout",
     "output_type": "stream",
     "text": [
      "F1-Score (0): 0.6451612903225806\n",
      "F1-Score (1): 0.6857142857142857\n"
     ]
    }
   ],
   "source": [
    "print(\"F1-Score (0):\", sklearn.metrics.f1_score(test, Y_predict, pos_label=0))\n",
    "print(\"F1-Score (1):\", sklearn.metrics.f1_score(test, Y_predict, pos_label=1))"
   ]
  },
  {
   "cell_type": "code",
   "execution_count": 16,
   "id": "3d097351",
   "metadata": {},
   "outputs": [],
   "source": [
    "proba = classifier.predict_proba(X)\n",
    "n_probas = 1000\n",
    "probas_cut = np.linspace(0.0,1.0,n_probas)\n",
    "precision_probas = np.ones(n_probas)\n",
    "recall_probas = np.ones(n_probas)\n",
    "f1_probas = np.ones(n_probas)\n",
    "\n",
    "for i in range(n_probas):\n",
    "    ii = proba[:,1] > probas_cut[i]\n",
    "    Y_predict[ii] = 1\n",
    "    Y_predict[~ii] = 0\n",
    "    precision_probas[i] = sklearn.metrics.precision_score(test, Y_predict, pos_label=1,zero_division = 0)\n",
    "    recall_probas[i] = sklearn.metrics.recall_score(test, Y_predict, pos_label=1,zero_division = 0)\n",
    "    f1_probas[i] = sklearn.metrics.f1_score(test, Y_predict, pos_label=1,zero_division = 0)"
   ]
  },
  {
   "cell_type": "code",
   "execution_count": 17,
   "id": "b1a05619",
   "metadata": {},
   "outputs": [
    {
     "data": {
      "image/png": "[encoded data removed]",
      "text/plain": [
       "<Figure size 576x396 with 1 Axes>"
      ]
     },
     "metadata": {},
     "output_type": "display_data"
    }
   ],
   "source": [
    "plt.figure()\n",
    "plt.style.use('seaborn')\n",
    "plt.plot(recall_probas, precision_probas)\n",
    "plt.xlabel('Cobertura (Recall)')\n",
    "plt.ylabel('Precisión')\n",
    "plt.tight_layout()\n",
    "plt.savefig('results/recall_precision.png')"
   ]
  },
  {
   "cell_type": "code",
   "execution_count": 18,
   "id": "6e183664",
   "metadata": {},
   "outputs": [
    {
     "data": {
      "image/png": "[encoded data removed]",
      "text/plain": [
       "<Figure size 576x396 with 1 Axes>"
      ]
     },
     "metadata": {},
     "output_type": "display_data"
    }
   ],
   "source": [
    "plt.figure()\n",
    "plt.style.use('seaborn')\n",
    "plt.plot(probas_cut, f1_probas)\n",
    "plt.xlabel('Probabilidad')\n",
    "plt.ylabel('F1 - Score')\n",
    "plt.tight_layout()\n",
    "plt.savefig('results/probability_f1score.png')"
   ]
  },
  {
   "cell_type": "code",
   "execution_count": null,
   "id": "637532f7",
   "metadata": {},
   "outputs": [],
   "source": []
  }
 ],
 "metadata": {
  "kernelspec": {
   "display_name": "Python 3 (ipykernel)",
   "language": "python",
   "name": "python3"
  },
  "language_info": {
   "codemirror_mode": {
    "name": "ipython",
    "version": 3
   },
   "file_extension": ".py",
   "mimetype": "text/x-python",
   "name": "python",
   "nbconvert_exporter": "python",
   "pygments_lexer": "ipython3",
   "version": "3.8.11"
  }
 },
 "nbformat": 4,
 "nbformat_minor": 5
}
