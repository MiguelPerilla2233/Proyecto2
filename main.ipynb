{
 "cells": [
  {
   "cell_type": "code",
   "execution_count": 1,
   "metadata": {},
   "outputs": [],
   "source": [
    "import numpy as np\n",
    "import matplotlib.pyplot as plt\n",
    "import pandas as pd"
   ]
  },
  {
   "cell_type": "code",
   "execution_count": 38,
   "metadata": {},
   "outputs": [],
   "source": [
    "data = pd.read_csv('data_2018.csv',delimiter=\";\" , encoding='latin1')"
   ]
  },
  {
   "cell_type": "code",
   "execution_count": 39,
   "metadata": {},
   "outputs": [
    {
     "data": {
      "text/plain": [
       "Index(['Code', 'Depto', 'Municipio', 'Censo Electoral',\n",
       "       'Participación/Total votación', 'Abstención',\n",
       "       'Ganador Circunscripción Nacional', 'Votos Válidos (Nacional)',\n",
       "       'Alianza Verde', 'Cambio Radical', 'Centro Democrático',\n",
       "       'Partido Conservador', 'FARC', 'Partido Liberal', 'Opción Ciudadana',\n",
       "       'MIRA', 'Polo Democrático Alternativo', 'Partido de la U', 'Somos',\n",
       "       'Todos Somos Colombia', 'Coalición Lista de la Decencia (ASI-UP-MAIS)',\n",
       "       'GSC Colombia Justa Libres', 'GSC Si se puede',\n",
       "       'GSC Unión con Fortaleza', 'Voto en Blanco (Nacional)',\n",
       "       'Ganador Circunscripción Indígena', 'Votos Válidos Indígenas',\n",
       "       'Autoridad Tradicional Casiyouren', 'MAIS', 'AICO',\n",
       "       'Movimiento Indígena Ambiental - MIA', 'Movimiento Político Soberanía',\n",
       "       'ASI', 'Renovación Étnica de Colombia', 'Voto en Blanco (Indígena)',\n",
       "       'Vótos Válidos (todas las circunscripciones)', 'Votos Inválidos',\n",
       "       'Votos Nulos', 'Tarjetones no Marcados', '%Participación',\n",
       "       '%Abstención', '%Votos Válidos (Nacional)', '%Alianza Verde',\n",
       "       '%Cambio Radical', '%Centro Democrático', '%Partido Conservador',\n",
       "       '%FARC', '%Partido Liberal', '%Opción Ciudadana', '%MIRA',\n",
       "       '%Polo Democrático Alternativo', '%Partido de la U', '%Somos',\n",
       "       '%Todos Somos Colombia',\n",
       "       '%Coalición Lista de la Decencia (ASI-UP-MAIS)',\n",
       "       '%GSC Colombia Justa Libres', '%GSC Si se puede',\n",
       "       '%GSC Unión con Fortaleza', '%Voto en Blanco (Nacional)',\n",
       "       '%Válidos Indígenas', '%Autoridad Tradicional Casiyouren', '%MAIS',\n",
       "       '%AICO', '%Movimiento Indígena Ambiental - MIA',\n",
       "       '%Movimiento Político Soberanía', '%ASI',\n",
       "       '%Renovación Étnica de Colombia', '%Voto en Blanco (Indígena)',\n",
       "       '%Vótos Válidos (todas las circunscripciones)', '%Votos Inválidos',\n",
       "       '%Votos Nulos', '%Tarjetones no Marcados'],\n",
       "      dtype='object')"
      ]
     },
     "execution_count": 39,
     "metadata": {},
     "output_type": "execute_result"
    }
   ],
   "source": [
    "data.keys()"
   ]
  },
  {
   "cell_type": "code",
   "execution_count": 44,
   "metadata": {},
   "outputs": [],
   "source": [
    "departamentos = list(dict.fromkeys(data['Depto']))"
   ]
  },
  {
   "cell_type": "code",
   "execution_count": null,
   "metadata": {},
   "outputs": [],
   "source": []
  }
 ],
 "metadata": {
  "interpreter": {
   "hash": "fb698bdeab99cfbf9e31cab566d99a06e057f2dec3dcc8097ebabb329e860e16"
  },
  "kernelspec": {
   "display_name": "Python 3.8.11 ('base')",
   "language": "python",
   "name": "python3"
  },
  "language_info": {
   "codemirror_mode": {
    "name": "ipython",
    "version": 3
   },
   "file_extension": ".py",
   "mimetype": "text/x-python",
   "name": "python",
   "nbconvert_exporter": "python",
   "pygments_lexer": "ipython3",
   "version": "3.8.11"
  },
  "orig_nbformat": 4
 },
 "nbformat": 4,
 "nbformat_minor": 2
}
